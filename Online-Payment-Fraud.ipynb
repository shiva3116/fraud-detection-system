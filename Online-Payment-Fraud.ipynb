{
 "cells": [
  {
   "cell_type": "code",
   "execution_count": 1,
   "id": "96e2737b",
   "metadata": {
    "_cell_guid": "b1076dfc-b9ad-4769-8c92-a6c4dae69d19",
    "_uuid": "8f2839f25d086af736a60e9eeb907d3b93b6e0e5",
    "execution": {
     "iopub.execute_input": "2023-08-08T06:46:56.308386Z",
     "iopub.status.busy": "2023-08-08T06:46:56.307845Z",
     "iopub.status.idle": "2023-08-08T06:46:56.329887Z",
     "shell.execute_reply": "2023-08-08T06:46:56.328725Z"
    },
    "papermill": {
     "duration": 0.03672,
     "end_time": "2023-08-08T06:46:56.332863",
     "exception": false,
     "start_time": "2023-08-08T06:46:56.296143",
     "status": "completed"
    },
    "tags": []
   },
   "outputs": [
    {
     "name": "stdout",
     "output_type": "stream",
     "text": [
      "/kaggle/input/online-payments-fraud-detection-dataset/PS_20174392719_1491204439457_log.csv\n"
     ]
    }
   ],
   "source": [
    "# This Python 3 environment comes with many helpful analytics libraries installed\n",
    "# It is defined by the kaggle/python Docker image: https://github.com/kaggle/docker-python\n",
    "# For example, here's several helpful packages to load\n",
    "\n",
    "import numpy as np # linear algebra\n",
    "import pandas as pd # data processing, CSV file I/O (e.g. pd.read_csv)\n",
    "\n",
    "# Input data files are available in the read-only \"../input/\" directory\n",
    "# For example, running this (by clicking run or pressing Shift+Enter) will list all files under the input directory\n",
    "\n",
    "import os\n",
    "for dirname, _, filenames in os.walk('/kaggle/input'):\n",
    "    for filename in filenames:\n",
    "        print(os.path.join(dirname, filename))\n",
    "\n",
    "# You can write up to 20GB to the current directory (/kaggle/working/) that gets preserved as output when you create a version using \"Save & Run All\" \n",
    "# You can also write temporary files to /kaggle/temp/, but they won't be saved outside of the current session"
   ]
  },
  {
   "cell_type": "code",
   "execution_count": 2,
   "id": "ddb96977",
   "metadata": {
    "execution": {
     "iopub.execute_input": "2023-08-08T06:46:56.356726Z",
     "iopub.status.busy": "2023-08-08T06:46:56.356254Z",
     "iopub.status.idle": "2023-08-08T06:46:56.362041Z",
     "shell.execute_reply": "2023-08-08T06:46:56.360818Z"
    },
    "papermill": {
     "duration": 0.021448,
     "end_time": "2023-08-08T06:46:56.364622",
     "exception": false,
     "start_time": "2023-08-08T06:46:56.343174",
     "status": "completed"
    },
    "tags": []
   },
   "outputs": [],
   "source": [
    "# importing required libraries\n",
    "\n",
    "import pandas as pd\n",
    "import numpy as np\n",
    "import matplotlib.pyplot as plt"
   ]
  },
  {
   "cell_type": "code",
   "execution_count": 3,
   "id": "b79e40fb",
   "metadata": {
    "execution": {
     "iopub.execute_input": "2023-08-08T06:46:56.386389Z",
     "iopub.status.busy": "2023-08-08T06:46:56.385951Z",
     "iopub.status.idle": "2023-08-08T06:47:21.770930Z",
     "shell.execute_reply": "2023-08-08T06:47:21.769698Z"
    },
    "papermill": {
     "duration": 25.39929,
     "end_time": "2023-08-08T06:47:21.773924",
     "exception": false,
     "start_time": "2023-08-08T06:46:56.374634",
     "status": "completed"
    },
    "tags": []
   },
   "outputs": [
    {
     "data": {
      "text/html": [
       "<div>\n",
       "<style scoped>\n",
       "    .dataframe tbody tr th:only-of-type {\n",
       "        vertical-align: middle;\n",
       "    }\n",
       "\n",
       "    .dataframe tbody tr th {\n",
       "        vertical-align: top;\n",
       "    }\n",
       "\n",
       "    .dataframe thead th {\n",
       "        text-align: right;\n",
       "    }\n",
       "</style>\n",
       "<table border=\"1\" class=\"dataframe\">\n",
       "  <thead>\n",
       "    <tr style=\"text-align: right;\">\n",
       "      <th></th>\n",
       "      <th>step</th>\n",
       "      <th>type</th>\n",
       "      <th>amount</th>\n",
       "      <th>nameOrig</th>\n",
       "      <th>oldbalanceOrg</th>\n",
       "      <th>newbalanceOrig</th>\n",
       "      <th>nameDest</th>\n",
       "      <th>oldbalanceDest</th>\n",
       "      <th>newbalanceDest</th>\n",
       "      <th>isFraud</th>\n",
       "      <th>isFlaggedFraud</th>\n",
       "    </tr>\n",
       "  </thead>\n",
       "  <tbody>\n",
       "    <tr>\n",
       "      <th>0</th>\n",
       "      <td>1</td>\n",
       "      <td>PAYMENT</td>\n",
       "      <td>9839.64</td>\n",
       "      <td>C1231006815</td>\n",
       "      <td>170136.00</td>\n",
       "      <td>160296.36</td>\n",
       "      <td>M1979787155</td>\n",
       "      <td>0.00</td>\n",
       "      <td>0.00</td>\n",
       "      <td>0</td>\n",
       "      <td>0</td>\n",
       "    </tr>\n",
       "    <tr>\n",
       "      <th>1</th>\n",
       "      <td>1</td>\n",
       "      <td>PAYMENT</td>\n",
       "      <td>1864.28</td>\n",
       "      <td>C1666544295</td>\n",
       "      <td>21249.00</td>\n",
       "      <td>19384.72</td>\n",
       "      <td>M2044282225</td>\n",
       "      <td>0.00</td>\n",
       "      <td>0.00</td>\n",
       "      <td>0</td>\n",
       "      <td>0</td>\n",
       "    </tr>\n",
       "    <tr>\n",
       "      <th>2</th>\n",
       "      <td>1</td>\n",
       "      <td>TRANSFER</td>\n",
       "      <td>181.00</td>\n",
       "      <td>C1305486145</td>\n",
       "      <td>181.00</td>\n",
       "      <td>0.00</td>\n",
       "      <td>C553264065</td>\n",
       "      <td>0.00</td>\n",
       "      <td>0.00</td>\n",
       "      <td>1</td>\n",
       "      <td>0</td>\n",
       "    </tr>\n",
       "    <tr>\n",
       "      <th>3</th>\n",
       "      <td>1</td>\n",
       "      <td>CASH_OUT</td>\n",
       "      <td>181.00</td>\n",
       "      <td>C840083671</td>\n",
       "      <td>181.00</td>\n",
       "      <td>0.00</td>\n",
       "      <td>C38997010</td>\n",
       "      <td>21182.00</td>\n",
       "      <td>0.00</td>\n",
       "      <td>1</td>\n",
       "      <td>0</td>\n",
       "    </tr>\n",
       "    <tr>\n",
       "      <th>4</th>\n",
       "      <td>1</td>\n",
       "      <td>PAYMENT</td>\n",
       "      <td>11668.14</td>\n",
       "      <td>C2048537720</td>\n",
       "      <td>41554.00</td>\n",
       "      <td>29885.86</td>\n",
       "      <td>M1230701703</td>\n",
       "      <td>0.00</td>\n",
       "      <td>0.00</td>\n",
       "      <td>0</td>\n",
       "      <td>0</td>\n",
       "    </tr>\n",
       "    <tr>\n",
       "      <th>...</th>\n",
       "      <td>...</td>\n",
       "      <td>...</td>\n",
       "      <td>...</td>\n",
       "      <td>...</td>\n",
       "      <td>...</td>\n",
       "      <td>...</td>\n",
       "      <td>...</td>\n",
       "      <td>...</td>\n",
       "      <td>...</td>\n",
       "      <td>...</td>\n",
       "      <td>...</td>\n",
       "    </tr>\n",
       "    <tr>\n",
       "      <th>6362615</th>\n",
       "      <td>743</td>\n",
       "      <td>CASH_OUT</td>\n",
       "      <td>339682.13</td>\n",
       "      <td>C786484425</td>\n",
       "      <td>339682.13</td>\n",
       "      <td>0.00</td>\n",
       "      <td>C776919290</td>\n",
       "      <td>0.00</td>\n",
       "      <td>339682.13</td>\n",
       "      <td>1</td>\n",
       "      <td>0</td>\n",
       "    </tr>\n",
       "    <tr>\n",
       "      <th>6362616</th>\n",
       "      <td>743</td>\n",
       "      <td>TRANSFER</td>\n",
       "      <td>6311409.28</td>\n",
       "      <td>C1529008245</td>\n",
       "      <td>6311409.28</td>\n",
       "      <td>0.00</td>\n",
       "      <td>C1881841831</td>\n",
       "      <td>0.00</td>\n",
       "      <td>0.00</td>\n",
       "      <td>1</td>\n",
       "      <td>0</td>\n",
       "    </tr>\n",
       "    <tr>\n",
       "      <th>6362617</th>\n",
       "      <td>743</td>\n",
       "      <td>CASH_OUT</td>\n",
       "      <td>6311409.28</td>\n",
       "      <td>C1162922333</td>\n",
       "      <td>6311409.28</td>\n",
       "      <td>0.00</td>\n",
       "      <td>C1365125890</td>\n",
       "      <td>68488.84</td>\n",
       "      <td>6379898.11</td>\n",
       "      <td>1</td>\n",
       "      <td>0</td>\n",
       "    </tr>\n",
       "    <tr>\n",
       "      <th>6362618</th>\n",
       "      <td>743</td>\n",
       "      <td>TRANSFER</td>\n",
       "      <td>850002.52</td>\n",
       "      <td>C1685995037</td>\n",
       "      <td>850002.52</td>\n",
       "      <td>0.00</td>\n",
       "      <td>C2080388513</td>\n",
       "      <td>0.00</td>\n",
       "      <td>0.00</td>\n",
       "      <td>1</td>\n",
       "      <td>0</td>\n",
       "    </tr>\n",
       "    <tr>\n",
       "      <th>6362619</th>\n",
       "      <td>743</td>\n",
       "      <td>CASH_OUT</td>\n",
       "      <td>850002.52</td>\n",
       "      <td>C1280323807</td>\n",
       "      <td>850002.52</td>\n",
       "      <td>0.00</td>\n",
       "      <td>C873221189</td>\n",
       "      <td>6510099.11</td>\n",
       "      <td>7360101.63</td>\n",
       "      <td>1</td>\n",
       "      <td>0</td>\n",
       "    </tr>\n",
       "  </tbody>\n",
       "</table>\n",
       "<p>6362620 rows × 11 columns</p>\n",
       "</div>"
      ],
      "text/plain": [
       "         step      type      amount     nameOrig  oldbalanceOrg  \\\n",
       "0           1   PAYMENT     9839.64  C1231006815      170136.00   \n",
       "1           1   PAYMENT     1864.28  C1666544295       21249.00   \n",
       "2           1  TRANSFER      181.00  C1305486145         181.00   \n",
       "3           1  CASH_OUT      181.00   C840083671         181.00   \n",
       "4           1   PAYMENT    11668.14  C2048537720       41554.00   \n",
       "...       ...       ...         ...          ...            ...   \n",
       "6362615   743  CASH_OUT   339682.13   C786484425      339682.13   \n",
       "6362616   743  TRANSFER  6311409.28  C1529008245     6311409.28   \n",
       "6362617   743  CASH_OUT  6311409.28  C1162922333     6311409.28   \n",
       "6362618   743  TRANSFER   850002.52  C1685995037      850002.52   \n",
       "6362619   743  CASH_OUT   850002.52  C1280323807      850002.52   \n",
       "\n",
       "         newbalanceOrig     nameDest  oldbalanceDest  newbalanceDest  isFraud  \\\n",
       "0             160296.36  M1979787155            0.00            0.00        0   \n",
       "1              19384.72  M2044282225            0.00            0.00        0   \n",
       "2                  0.00   C553264065            0.00            0.00        1   \n",
       "3                  0.00    C38997010        21182.00            0.00        1   \n",
       "4              29885.86  M1230701703            0.00            0.00        0   \n",
       "...                 ...          ...             ...             ...      ...   \n",
       "6362615            0.00   C776919290            0.00       339682.13        1   \n",
       "6362616            0.00  C1881841831            0.00            0.00        1   \n",
       "6362617            0.00  C1365125890        68488.84      6379898.11        1   \n",
       "6362618            0.00  C2080388513            0.00            0.00        1   \n",
       "6362619            0.00   C873221189      6510099.11      7360101.63        1   \n",
       "\n",
       "         isFlaggedFraud  \n",
       "0                     0  \n",
       "1                     0  \n",
       "2                     0  \n",
       "3                     0  \n",
       "4                     0  \n",
       "...                 ...  \n",
       "6362615               0  \n",
       "6362616               0  \n",
       "6362617               0  \n",
       "6362618               0  \n",
       "6362619               0  \n",
       "\n",
       "[6362620 rows x 11 columns]"
      ]
     },
     "execution_count": 3,
     "metadata": {},
     "output_type": "execute_result"
    }
   ],
   "source": [
    "# loading the dataset into pandas dataframe\n",
    "df = pd.read_csv(\"/kaggle/input/online-payments-fraud-detection-dataset/PS_20174392719_1491204439457_log.csv\")\n",
    "df"
   ]
  },
  {
   "cell_type": "code",
   "execution_count": 4,
   "id": "90fac8a0",
   "metadata": {
    "execution": {
     "iopub.execute_input": "2023-08-08T06:47:21.800257Z",
     "iopub.status.busy": "2023-08-08T06:47:21.799389Z",
     "iopub.status.idle": "2023-08-08T06:47:21.939544Z",
     "shell.execute_reply": "2023-08-08T06:47:21.938073Z"
    },
    "papermill": {
     "duration": 0.157008,
     "end_time": "2023-08-08T06:47:21.942517",
     "exception": false,
     "start_time": "2023-08-08T06:47:21.785509",
     "status": "completed"
    },
    "tags": []
   },
   "outputs": [],
   "source": [
    "# Retain the 6 features and the target variable\n",
    "df = df[['amount','oldbalanceOrg','newbalanceOrig','oldbalanceDest','newbalanceDest',\"isFraud\",\"isFlaggedFraud\"]]"
   ]
  },
  {
   "cell_type": "code",
   "execution_count": 5,
   "id": "2608221e",
   "metadata": {
    "execution": {
     "iopub.execute_input": "2023-08-08T06:47:21.965869Z",
     "iopub.status.busy": "2023-08-08T06:47:21.965428Z",
     "iopub.status.idle": "2023-08-08T06:47:21.987547Z",
     "shell.execute_reply": "2023-08-08T06:47:21.985725Z"
    },
    "papermill": {
     "duration": 0.037412,
     "end_time": "2023-08-08T06:47:21.991262",
     "exception": false,
     "start_time": "2023-08-08T06:47:21.953850",
     "status": "completed"
    },
    "tags": []
   },
   "outputs": [
    {
     "name": "stdout",
     "output_type": "stream",
     "text": [
      "<class 'pandas.core.frame.DataFrame'>\n",
      "RangeIndex: 6362620 entries, 0 to 6362619\n",
      "Data columns (total 7 columns):\n",
      " #   Column          Dtype  \n",
      "---  ------          -----  \n",
      " 0   amount          float64\n",
      " 1   oldbalanceOrg   float64\n",
      " 2   newbalanceOrig  float64\n",
      " 3   oldbalanceDest  float64\n",
      " 4   newbalanceDest  float64\n",
      " 5   isFraud         int64  \n",
      " 6   isFlaggedFraud  int64  \n",
      "dtypes: float64(5), int64(2)\n",
      "memory usage: 339.8 MB\n"
     ]
    }
   ],
   "source": [
    "df.info()"
   ]
  },
  {
   "cell_type": "code",
   "execution_count": 6,
   "id": "b5e22955",
   "metadata": {
    "execution": {
     "iopub.execute_input": "2023-08-08T06:47:22.016283Z",
     "iopub.status.busy": "2023-08-08T06:47:22.015873Z",
     "iopub.status.idle": "2023-08-08T06:47:22.097294Z",
     "shell.execute_reply": "2023-08-08T06:47:22.095326Z"
    },
    "papermill": {
     "duration": 0.097187,
     "end_time": "2023-08-08T06:47:22.100638",
     "exception": false,
     "start_time": "2023-08-08T06:47:22.003451",
     "status": "completed"
    },
    "tags": []
   },
   "outputs": [
    {
     "data": {
      "text/plain": [
       "amount            0\n",
       "oldbalanceOrg     0\n",
       "newbalanceOrig    0\n",
       "oldbalanceDest    0\n",
       "newbalanceDest    0\n",
       "isFraud           0\n",
       "isFlaggedFraud    0\n",
       "dtype: int64"
      ]
     },
     "execution_count": 6,
     "metadata": {},
     "output_type": "execute_result"
    }
   ],
   "source": [
    "df.isnull().sum()"
   ]
  },
  {
   "cell_type": "code",
   "execution_count": 7,
   "id": "fe66ddfd",
   "metadata": {
    "execution": {
     "iopub.execute_input": "2023-08-08T06:47:22.123851Z",
     "iopub.status.busy": "2023-08-08T06:47:22.123407Z",
     "iopub.status.idle": "2023-08-08T06:47:22.193343Z",
     "shell.execute_reply": "2023-08-08T06:47:22.191670Z"
    },
    "papermill": {
     "duration": 0.08497,
     "end_time": "2023-08-08T06:47:22.196439",
     "exception": false,
     "start_time": "2023-08-08T06:47:22.111469",
     "status": "completed"
    },
    "tags": []
   },
   "outputs": [
    {
     "data": {
      "text/plain": [
       "0    6354407\n",
       "1       8213\n",
       "Name: isFraud, dtype: int64"
      ]
     },
     "execution_count": 7,
     "metadata": {},
     "output_type": "execute_result"
    }
   ],
   "source": [
    "df['isFraud'].value_counts()"
   ]
  },
  {
   "cell_type": "code",
   "execution_count": 8,
   "id": "a03088d9",
   "metadata": {
    "execution": {
     "iopub.execute_input": "2023-08-08T06:47:22.221865Z",
     "iopub.status.busy": "2023-08-08T06:47:22.221461Z",
     "iopub.status.idle": "2023-08-08T06:47:22.336463Z",
     "shell.execute_reply": "2023-08-08T06:47:22.335240Z"
    },
    "papermill": {
     "duration": 0.13054,
     "end_time": "2023-08-08T06:47:22.339229",
     "exception": false,
     "start_time": "2023-08-08T06:47:22.208689",
     "status": "completed"
    },
    "tags": []
   },
   "outputs": [],
   "source": [
    "# Load the features to a variable X\n",
    "# X is created by simply dropping the diagnosis column and retaining all others\n",
    "X = df.drop('isFraud',axis=1)\n",
    "\n",
    "\n",
    "#Load the target variable to y\n",
    "y = df['isFraud']"
   ]
  },
  {
   "cell_type": "code",
   "execution_count": 9,
   "id": "027af1b3",
   "metadata": {
    "execution": {
     "iopub.execute_input": "2023-08-08T06:47:22.363450Z",
     "iopub.status.busy": "2023-08-08T06:47:22.363006Z",
     "iopub.status.idle": "2023-08-08T06:47:25.649099Z",
     "shell.execute_reply": "2023-08-08T06:47:25.647451Z"
    },
    "papermill": {
     "duration": 3.302133,
     "end_time": "2023-08-08T06:47:25.652152",
     "exception": false,
     "start_time": "2023-08-08T06:47:22.350019",
     "status": "completed"
    },
    "tags": []
   },
   "outputs": [
    {
     "name": "stderr",
     "output_type": "stream",
     "text": [
      "/opt/conda/lib/python3.10/site-packages/scipy/__init__.py:146: UserWarning: A NumPy version >=1.16.5 and <1.23.0 is required for this version of SciPy (detected version 1.23.5\n",
      "  warnings.warn(f\"A NumPy version >={np_minversion} and <{np_maxversion}\"\n"
     ]
    }
   ],
   "source": [
    "# Do the train/test split \n",
    "\n",
    "from sklearn.model_selection import train_test_split\n",
    "X_train,X_test,y_train,y_test = train_test_split(X,y,test_size=0.30,random_state=1)"
   ]
  },
  {
   "cell_type": "code",
   "execution_count": 10,
   "id": "01686dc8",
   "metadata": {
    "execution": {
     "iopub.execute_input": "2023-08-08T06:47:25.677920Z",
     "iopub.status.busy": "2023-08-08T06:47:25.676873Z",
     "iopub.status.idle": "2023-08-08T06:48:51.421507Z",
     "shell.execute_reply": "2023-08-08T06:48:51.419608Z"
    },
    "papermill": {
     "duration": 85.771608,
     "end_time": "2023-08-08T06:48:51.434864",
     "exception": false,
     "start_time": "2023-08-08T06:47:25.663256",
     "status": "completed"
    },
    "tags": []
   },
   "outputs": [
    {
     "name": "stderr",
     "output_type": "stream",
     "text": [
      "/opt/conda/lib/python3.10/site-packages/sklearn/svm/_base.py:1244: ConvergenceWarning: Liblinear failed to converge, increase the number of iterations.\n",
      "  warnings.warn(\n"
     ]
    },
    {
     "data": {
      "text/html": [
       "<style>#sk-container-id-1 {color: black;background-color: white;}#sk-container-id-1 pre{padding: 0;}#sk-container-id-1 div.sk-toggleable {background-color: white;}#sk-container-id-1 label.sk-toggleable__label {cursor: pointer;display: block;width: 100%;margin-bottom: 0;padding: 0.3em;box-sizing: border-box;text-align: center;}#sk-container-id-1 label.sk-toggleable__label-arrow:before {content: \"▸\";float: left;margin-right: 0.25em;color: #696969;}#sk-container-id-1 label.sk-toggleable__label-arrow:hover:before {color: black;}#sk-container-id-1 div.sk-estimator:hover label.sk-toggleable__label-arrow:before {color: black;}#sk-container-id-1 div.sk-toggleable__content {max-height: 0;max-width: 0;overflow: hidden;text-align: left;background-color: #f0f8ff;}#sk-container-id-1 div.sk-toggleable__content pre {margin: 0.2em;color: black;border-radius: 0.25em;background-color: #f0f8ff;}#sk-container-id-1 input.sk-toggleable__control:checked~div.sk-toggleable__content {max-height: 200px;max-width: 100%;overflow: auto;}#sk-container-id-1 input.sk-toggleable__control:checked~label.sk-toggleable__label-arrow:before {content: \"▾\";}#sk-container-id-1 div.sk-estimator input.sk-toggleable__control:checked~label.sk-toggleable__label {background-color: #d4ebff;}#sk-container-id-1 div.sk-label input.sk-toggleable__control:checked~label.sk-toggleable__label {background-color: #d4ebff;}#sk-container-id-1 input.sk-hidden--visually {border: 0;clip: rect(1px 1px 1px 1px);clip: rect(1px, 1px, 1px, 1px);height: 1px;margin: -1px;overflow: hidden;padding: 0;position: absolute;width: 1px;}#sk-container-id-1 div.sk-estimator {font-family: monospace;background-color: #f0f8ff;border: 1px dotted black;border-radius: 0.25em;box-sizing: border-box;margin-bottom: 0.5em;}#sk-container-id-1 div.sk-estimator:hover {background-color: #d4ebff;}#sk-container-id-1 div.sk-parallel-item::after {content: \"\";width: 100%;border-bottom: 1px solid gray;flex-grow: 1;}#sk-container-id-1 div.sk-label:hover label.sk-toggleable__label {background-color: #d4ebff;}#sk-container-id-1 div.sk-serial::before {content: \"\";position: absolute;border-left: 1px solid gray;box-sizing: border-box;top: 0;bottom: 0;left: 50%;z-index: 0;}#sk-container-id-1 div.sk-serial {display: flex;flex-direction: column;align-items: center;background-color: white;padding-right: 0.2em;padding-left: 0.2em;position: relative;}#sk-container-id-1 div.sk-item {position: relative;z-index: 1;}#sk-container-id-1 div.sk-parallel {display: flex;align-items: stretch;justify-content: center;background-color: white;position: relative;}#sk-container-id-1 div.sk-item::before, #sk-container-id-1 div.sk-parallel-item::before {content: \"\";position: absolute;border-left: 1px solid gray;box-sizing: border-box;top: 0;bottom: 0;left: 50%;z-index: -1;}#sk-container-id-1 div.sk-parallel-item {display: flex;flex-direction: column;z-index: 1;position: relative;background-color: white;}#sk-container-id-1 div.sk-parallel-item:first-child::after {align-self: flex-end;width: 50%;}#sk-container-id-1 div.sk-parallel-item:last-child::after {align-self: flex-start;width: 50%;}#sk-container-id-1 div.sk-parallel-item:only-child::after {width: 0;}#sk-container-id-1 div.sk-dashed-wrapped {border: 1px dashed gray;margin: 0 0.4em 0.5em 0.4em;box-sizing: border-box;padding-bottom: 0.4em;background-color: white;}#sk-container-id-1 div.sk-label label {font-family: monospace;font-weight: bold;display: inline-block;line-height: 1.2em;}#sk-container-id-1 div.sk-label-container {text-align: center;}#sk-container-id-1 div.sk-container {/* jupyter's `normalize.less` sets `[hidden] { display: none; }` but bootstrap.min.css set `[hidden] { display: none !important; }` so we also need the `!important` here to be able to override the default hidden behavior on the sphinx rendered scikit-learn.org. See: https://github.com/scikit-learn/scikit-learn/issues/21755 */display: inline-block !important;position: relative;}#sk-container-id-1 div.sk-text-repr-fallback {display: none;}</style><div id=\"sk-container-id-1\" class=\"sk-top-container\"><div class=\"sk-text-repr-fallback\"><pre>LogisticRegression(solver=&#x27;liblinear&#x27;)</pre><b>In a Jupyter environment, please rerun this cell to show the HTML representation or trust the notebook. <br />On GitHub, the HTML representation is unable to render, please try loading this page with nbviewer.org.</b></div><div class=\"sk-container\" hidden><div class=\"sk-item\"><div class=\"sk-estimator sk-toggleable\"><input class=\"sk-toggleable__control sk-hidden--visually\" id=\"sk-estimator-id-1\" type=\"checkbox\" checked><label for=\"sk-estimator-id-1\" class=\"sk-toggleable__label sk-toggleable__label-arrow\">LogisticRegression</label><div class=\"sk-toggleable__content\"><pre>LogisticRegression(solver=&#x27;liblinear&#x27;)</pre></div></div></div></div></div>"
      ],
      "text/plain": [
       "LogisticRegression(solver='liblinear')"
      ]
     },
     "execution_count": 10,
     "metadata": {},
     "output_type": "execute_result"
    }
   ],
   "source": [
    "# Train the Logistic Regression Model\n",
    "from sklearn.linear_model import LogisticRegression\n",
    "classifier = LogisticRegression (solver='liblinear')\n",
    "classifier.fit(X_train,y_train)"
   ]
  },
  {
   "cell_type": "code",
   "execution_count": 11,
   "id": "a2e0b14b",
   "metadata": {
    "execution": {
     "iopub.execute_input": "2023-08-08T06:48:51.459538Z",
     "iopub.status.busy": "2023-08-08T06:48:51.459069Z",
     "iopub.status.idle": "2023-08-08T06:48:51.561685Z",
     "shell.execute_reply": "2023-08-08T06:48:51.560038Z"
    },
    "papermill": {
     "duration": 0.119895,
     "end_time": "2023-08-08T06:48:51.566249",
     "exception": false,
     "start_time": "2023-08-08T06:48:51.446354",
     "status": "completed"
    },
    "tags": []
   },
   "outputs": [],
   "source": [
    "# Prediction with the test set\n",
    "y_predict = classifier.predict(X_test)"
   ]
  },
  {
   "cell_type": "code",
   "execution_count": 12,
   "id": "ebab9115",
   "metadata": {
    "execution": {
     "iopub.execute_input": "2023-08-08T06:48:51.617582Z",
     "iopub.status.busy": "2023-08-08T06:48:51.616852Z",
     "iopub.status.idle": "2023-08-08T06:48:51.643134Z",
     "shell.execute_reply": "2023-08-08T06:48:51.642163Z"
    },
    "papermill": {
     "duration": 0.055774,
     "end_time": "2023-08-08T06:48:51.645776",
     "exception": false,
     "start_time": "2023-08-08T06:48:51.590002",
     "status": "completed"
    },
    "tags": []
   },
   "outputs": [
    {
     "data": {
      "text/html": [
       "<div>\n",
       "<style scoped>\n",
       "    .dataframe tbody tr th:only-of-type {\n",
       "        vertical-align: middle;\n",
       "    }\n",
       "\n",
       "    .dataframe tbody tr th {\n",
       "        vertical-align: top;\n",
       "    }\n",
       "\n",
       "    .dataframe thead th {\n",
       "        text-align: right;\n",
       "    }\n",
       "</style>\n",
       "<table border=\"1\" class=\"dataframe\">\n",
       "  <thead>\n",
       "    <tr style=\"text-align: right;\">\n",
       "      <th></th>\n",
       "      <th>A</th>\n",
       "      <th>P</th>\n",
       "    </tr>\n",
       "  </thead>\n",
       "  <tbody>\n",
       "    <tr>\n",
       "      <th>6322570</th>\n",
       "      <td>0</td>\n",
       "      <td>0</td>\n",
       "    </tr>\n",
       "    <tr>\n",
       "      <th>3621196</th>\n",
       "      <td>0</td>\n",
       "      <td>0</td>\n",
       "    </tr>\n",
       "    <tr>\n",
       "      <th>1226256</th>\n",
       "      <td>0</td>\n",
       "      <td>0</td>\n",
       "    </tr>\n",
       "    <tr>\n",
       "      <th>2803274</th>\n",
       "      <td>0</td>\n",
       "      <td>0</td>\n",
       "    </tr>\n",
       "    <tr>\n",
       "      <th>3201247</th>\n",
       "      <td>0</td>\n",
       "      <td>0</td>\n",
       "    </tr>\n",
       "    <tr>\n",
       "      <th>3681019</th>\n",
       "      <td>0</td>\n",
       "      <td>0</td>\n",
       "    </tr>\n",
       "    <tr>\n",
       "      <th>1351584</th>\n",
       "      <td>0</td>\n",
       "      <td>0</td>\n",
       "    </tr>\n",
       "    <tr>\n",
       "      <th>5422829</th>\n",
       "      <td>0</td>\n",
       "      <td>0</td>\n",
       "    </tr>\n",
       "    <tr>\n",
       "      <th>5870912</th>\n",
       "      <td>0</td>\n",
       "      <td>0</td>\n",
       "    </tr>\n",
       "    <tr>\n",
       "      <th>2400263</th>\n",
       "      <td>0</td>\n",
       "      <td>0</td>\n",
       "    </tr>\n",
       "  </tbody>\n",
       "</table>\n",
       "</div>"
      ],
      "text/plain": [
       "         A  P\n",
       "6322570  0  0\n",
       "3621196  0  0\n",
       "1226256  0  0\n",
       "2803274  0  0\n",
       "3201247  0  0\n",
       "3681019  0  0\n",
       "1351584  0  0\n",
       "5422829  0  0\n",
       "5870912  0  0\n",
       "2400263  0  0"
      ]
     },
     "execution_count": 12,
     "metadata": {},
     "output_type": "execute_result"
    }
   ],
   "source": [
    "Results = pd.DataFrame({'A':y_test,'P':y_predict})\n",
    "Results.head(10)"
   ]
  },
  {
   "cell_type": "code",
   "execution_count": 13,
   "id": "f9af9951",
   "metadata": {
    "execution": {
     "iopub.execute_input": "2023-08-08T06:48:51.673552Z",
     "iopub.status.busy": "2023-08-08T06:48:51.672492Z",
     "iopub.status.idle": "2023-08-08T06:48:51.862434Z",
     "shell.execute_reply": "2023-08-08T06:48:51.861157Z"
    },
    "papermill": {
     "duration": 0.207402,
     "end_time": "2023-08-08T06:48:51.865435",
     "exception": false,
     "start_time": "2023-08-08T06:48:51.658033",
     "status": "completed"
    },
    "tags": []
   },
   "outputs": [
    {
     "name": "stdout",
     "output_type": "stream",
     "text": [
      "0.9992524044078278\n"
     ]
    }
   ],
   "source": [
    "# Compute Model Accuracy.\n",
    "\n",
    "from sklearn.metrics import accuracy_score\n",
    "print(accuracy_score(y_test,y_predict))"
   ]
  },
  {
   "cell_type": "code",
   "execution_count": 14,
   "id": "6afba8d5",
   "metadata": {
    "execution": {
     "iopub.execute_input": "2023-08-08T06:48:51.890581Z",
     "iopub.status.busy": "2023-08-08T06:48:51.890160Z",
     "iopub.status.idle": "2023-08-08T06:48:52.579579Z",
     "shell.execute_reply": "2023-08-08T06:48:52.578069Z"
    },
    "papermill": {
     "duration": 0.705241,
     "end_time": "2023-08-08T06:48:52.582215",
     "exception": false,
     "start_time": "2023-08-08T06:48:51.876974",
     "status": "completed"
    },
    "tags": []
   },
   "outputs": [
    {
     "name": "stdout",
     "output_type": "stream",
     "text": [
      "0.9992803952729267\n"
     ]
    }
   ],
   "source": [
    "# Model accuracy on training set.\n",
    "\n",
    "# Get the predictions from the model for the training set.\n",
    "\n",
    "y_train_pred = classifier.predict(X_train)\n",
    "\n",
    "print(accuracy_score(y_train,y_train_pred))"
   ]
  },
  {
   "cell_type": "code",
   "execution_count": 15,
   "id": "b4ddd30a",
   "metadata": {
    "execution": {
     "iopub.execute_input": "2023-08-08T06:48:52.607380Z",
     "iopub.status.busy": "2023-08-08T06:48:52.606929Z",
     "iopub.status.idle": "2023-08-08T06:48:52.784929Z",
     "shell.execute_reply": "2023-08-08T06:48:52.783571Z"
    },
    "papermill": {
     "duration": 0.193726,
     "end_time": "2023-08-08T06:48:52.787650",
     "exception": false,
     "start_time": "2023-08-08T06:48:52.593924",
     "status": "completed"
    },
    "tags": []
   },
   "outputs": [
    {
     "name": "stdout",
     "output_type": "stream",
     "text": [
      "(1908786, 2)\n"
     ]
    }
   ],
   "source": [
    "# Getting probability predictions from the model.\n",
    "y_test_proba = classifier.predict_proba(X_test)\n",
    "\n",
    "print(y_test_proba.shape)"
   ]
  },
  {
   "cell_type": "code",
   "execution_count": 16,
   "id": "8656e845",
   "metadata": {
    "execution": {
     "iopub.execute_input": "2023-08-08T06:48:52.813279Z",
     "iopub.status.busy": "2023-08-08T06:48:52.812586Z",
     "iopub.status.idle": "2023-08-08T06:48:52.819884Z",
     "shell.execute_reply": "2023-08-08T06:48:52.818689Z"
    },
    "papermill": {
     "duration": 0.023079,
     "end_time": "2023-08-08T06:48:52.822572",
     "exception": false,
     "start_time": "2023-08-08T06:48:52.799493",
     "status": "completed"
    },
    "tags": []
   },
   "outputs": [
    {
     "data": {
      "text/plain": [
       "array([[9.90914469e-01, 9.08553137e-03],\n",
       "       [5.78209055e-01, 4.21790945e-01],\n",
       "       [6.83086498e-01, 3.16913502e-01],\n",
       "       [9.99999508e-01, 4.91585075e-07],\n",
       "       [9.99693434e-01, 3.06566184e-04]])"
      ]
     },
     "execution_count": 16,
     "metadata": {},
     "output_type": "execute_result"
    }
   ],
   "source": [
    "y_test_proba[0:5,:]"
   ]
  },
  {
   "cell_type": "code",
   "execution_count": 17,
   "id": "20b60151",
   "metadata": {
    "execution": {
     "iopub.execute_input": "2023-08-08T06:48:52.847943Z",
     "iopub.status.busy": "2023-08-08T06:48:52.847544Z",
     "iopub.status.idle": "2023-08-08T06:48:52.853626Z",
     "shell.execute_reply": "2023-08-08T06:48:52.852834Z"
    },
    "papermill": {
     "duration": 0.021972,
     "end_time": "2023-08-08T06:48:52.856336",
     "exception": false,
     "start_time": "2023-08-08T06:48:52.834364",
     "status": "completed"
    },
    "tags": []
   },
   "outputs": [
    {
     "name": "stdout",
     "output_type": "stream",
     "text": [
      "[['0.9909144686259501' '0.0090855313740498']\n",
      " ['0.5782090546663730' '0.4217909453336271']\n",
      " ['0.6830864978197835' '0.3169135021802165']\n",
      " ['0.9999995084149252' '0.0000004915850747']\n",
      " ['0.9996934338164003' '0.0003065661835997']]\n"
     ]
    }
   ],
   "source": [
    "import numpy as np\n",
    "\n",
    "# Given array in scientific notation\n",
    "array_in_scientific = y_test_proba[0:5,:]\n",
    "\n",
    "# Convert to normal number format\n",
    "array_in_normal = np.vectorize(lambda x: format(x, '.16f'))(array_in_scientific)\n",
    "\n",
    "print(array_in_normal)\n"
   ]
  },
  {
   "cell_type": "code",
   "execution_count": 18,
   "id": "101529de",
   "metadata": {
    "execution": {
     "iopub.execute_input": "2023-08-08T06:48:52.882278Z",
     "iopub.status.busy": "2023-08-08T06:48:52.881278Z",
     "iopub.status.idle": "2023-08-08T06:48:55.368430Z",
     "shell.execute_reply": "2023-08-08T06:48:55.367102Z"
    },
    "papermill": {
     "duration": 2.504129,
     "end_time": "2023-08-08T06:48:55.372348",
     "exception": false,
     "start_time": "2023-08-08T06:48:52.868219",
     "status": "completed"
    },
    "tags": []
   },
   "outputs": [
    {
     "name": "stdout",
     "output_type": "stream",
     "text": [
      "['0.0090855313740498' '0.4217909453336271' '0.3169135021802165' ...\n",
      " '0.0000000000000000' '0.0000000000000000' '0.3897303181872133']\n"
     ]
    }
   ],
   "source": [
    "T = y_test_proba[:,1]\n",
    "array_in_one = T\n",
    "\n",
    "# Convert to normal number format\n",
    "S = np.vectorize(lambda x: format(x, '.16f'))(array_in_one)\n",
    "\n",
    "print(S)\n"
   ]
  },
  {
   "cell_type": "code",
   "execution_count": 19,
   "id": "46e9be1c",
   "metadata": {
    "execution": {
     "iopub.execute_input": "2023-08-08T06:48:55.400545Z",
     "iopub.status.busy": "2023-08-08T06:48:55.399440Z",
     "iopub.status.idle": "2023-08-08T06:48:55.706814Z",
     "shell.execute_reply": "2023-08-08T06:48:55.705455Z"
    },
    "papermill": {
     "duration": 0.325169,
     "end_time": "2023-08-08T06:48:55.710284",
     "exception": false,
     "start_time": "2023-08-08T06:48:55.385115",
     "status": "completed"
    },
    "tags": []
   },
   "outputs": [
    {
     "data": {
      "text/html": [
       "<div>\n",
       "<style scoped>\n",
       "    .dataframe tbody tr th:only-of-type {\n",
       "        vertical-align: middle;\n",
       "    }\n",
       "\n",
       "    .dataframe tbody tr th {\n",
       "        vertical-align: top;\n",
       "    }\n",
       "\n",
       "    .dataframe thead th {\n",
       "        text-align: right;\n",
       "    }\n",
       "</style>\n",
       "<table border=\"1\" class=\"dataframe\">\n",
       "  <thead>\n",
       "    <tr style=\"text-align: right;\">\n",
       "      <th></th>\n",
       "      <th>Actual</th>\n",
       "      <th>Predictions</th>\n",
       "      <th>Prob(Class = 1)</th>\n",
       "    </tr>\n",
       "  </thead>\n",
       "  <tbody>\n",
       "    <tr>\n",
       "      <th>6322570</th>\n",
       "      <td>0</td>\n",
       "      <td>0</td>\n",
       "      <td>0.0090855313740498</td>\n",
       "    </tr>\n",
       "    <tr>\n",
       "      <th>3621196</th>\n",
       "      <td>0</td>\n",
       "      <td>0</td>\n",
       "      <td>0.4217909453336271</td>\n",
       "    </tr>\n",
       "    <tr>\n",
       "      <th>1226256</th>\n",
       "      <td>0</td>\n",
       "      <td>0</td>\n",
       "      <td>0.3169135021802165</td>\n",
       "    </tr>\n",
       "    <tr>\n",
       "      <th>2803274</th>\n",
       "      <td>0</td>\n",
       "      <td>0</td>\n",
       "      <td>0.0000004915850747</td>\n",
       "    </tr>\n",
       "    <tr>\n",
       "      <th>3201247</th>\n",
       "      <td>0</td>\n",
       "      <td>0</td>\n",
       "      <td>0.0003065661835997</td>\n",
       "    </tr>\n",
       "  </tbody>\n",
       "</table>\n",
       "</div>"
      ],
      "text/plain": [
       "         Actual  Predictions     Prob(Class = 1)\n",
       "6322570       0            0  0.0090855313740498\n",
       "3621196       0            0  0.4217909453336271\n",
       "1226256       0            0  0.3169135021802165\n",
       "2803274       0            0  0.0000004915850747\n",
       "3201247       0            0  0.0003065661835997"
      ]
     },
     "execution_count": 19,
     "metadata": {},
     "output_type": "execute_result"
    }
   ],
   "source": [
    "Results = pd.DataFrame({'Actual':y_test,'Predictions':y_predict,'Prob(Class = 1)':S})\n",
    "\n",
    "Results.head(5)"
   ]
  },
  {
   "cell_type": "code",
   "execution_count": 20,
   "id": "d18bba48",
   "metadata": {
    "execution": {
     "iopub.execute_input": "2023-08-08T06:48:55.739845Z",
     "iopub.status.busy": "2023-08-08T06:48:55.739448Z",
     "iopub.status.idle": "2023-08-08T06:48:56.093966Z",
     "shell.execute_reply": "2023-08-08T06:48:56.092962Z"
    },
    "papermill": {
     "duration": 0.372665,
     "end_time": "2023-08-08T06:48:56.096577",
     "exception": false,
     "start_time": "2023-08-08T06:48:55.723912",
     "status": "completed"
    },
    "tags": []
   },
   "outputs": [
    {
     "name": "stdout",
     "output_type": "stream",
     "text": [
      "[[1905716     602]\n",
      " [    825    1643]]\n"
     ]
    }
   ],
   "source": [
    "#Generate the Confusion Matrix\n",
    "\n",
    "from sklearn.metrics import confusion_matrix\n",
    "\n",
    "cm = confusion_matrix(y_test,y_predict)\n",
    "print(cm)"
   ]
  },
  {
   "cell_type": "code",
   "execution_count": 21,
   "id": "f254998e",
   "metadata": {
    "execution": {
     "iopub.execute_input": "2023-08-08T06:48:56.123339Z",
     "iopub.status.busy": "2023-08-08T06:48:56.122881Z",
     "iopub.status.idle": "2023-08-08T06:48:57.104660Z",
     "shell.execute_reply": "2023-08-08T06:48:57.103183Z"
    },
    "papermill": {
     "duration": 0.998341,
     "end_time": "2023-08-08T06:48:57.107522",
     "exception": false,
     "start_time": "2023-08-08T06:48:56.109181",
     "status": "completed"
    },
    "tags": []
   },
   "outputs": [
    {
     "data": {
      "text/plain": [
       "Text(95.72222222222221, 0.5, 'True Label')"
      ]
     },
     "execution_count": 21,
     "metadata": {},
     "output_type": "execute_result"
    },
    {
     "data": {
      "image/png": "[encoded data removed]",
      "text/plain": [
       "<Figure size 1000x700 with 2 Axes>"
      ]
     },
     "metadata": {},
     "output_type": "display_data"
    }
   ],
   "source": [
    "import seaborn as sn\n",
    "plt.figure(figsize = (10,7))\n",
    "sn.heatmap(cm, annot=True)\n",
    "plt.title('Confusion Matrix - Test Data')\n",
    "plt.xlabel('Predicted Label')\n",
    "plt.ylabel('True Label')"
   ]
  },
  {
   "cell_type": "code",
   "execution_count": 22,
   "id": "3d77d0d5",
   "metadata": {
    "execution": {
     "iopub.execute_input": "2023-08-08T06:48:57.138577Z",
     "iopub.status.busy": "2023-08-08T06:48:57.138035Z",
     "iopub.status.idle": "2023-08-08T06:48:57.350657Z",
     "shell.execute_reply": "2023-08-08T06:48:57.349158Z"
    },
    "papermill": {
     "duration": 0.235368,
     "end_time": "2023-08-08T06:48:57.356189",
     "exception": false,
     "start_time": "2023-08-08T06:48:57.120821",
     "status": "completed"
    },
    "tags": []
   },
   "outputs": [
    {
     "data": {
      "image/png": "[encoded data removed]",
      "text/plain": [
       "<Figure size 640x480 with 1 Axes>"
      ]
     },
     "metadata": {},
     "output_type": "display_data"
    }
   ],
   "source": [
    "plt.clf()\n",
    "plt.imshow(cm,interpolation='nearest',cmap=plt.cm.prism)\n",
    "classNames = ['0','1']\n",
    "plt.title('Confusion Matrix-Test Data')\n",
    "plt.ylabel('True label')\n",
    "plt.xlabel('Predicted label')\n",
    "tick_marks = np.arange(2)\n",
    "plt.xticks(tick_marks,classNames,rotation=45)\n",
    "plt.yticks(tick_marks,classNames)\n",
    "s = [['TN','FP'],['FN','TP']]\n",
    "for i in range(2):\n",
    "    for j in range(2):\n",
    "        plt.text(j,i,str(s[i][j])+\"= \"+str(cm[i][j]))\n",
    "plt.show()"
   ]
  },
  {
   "cell_type": "code",
   "execution_count": 23,
   "id": "74e3a146",
   "metadata": {
    "execution": {
     "iopub.execute_input": "2023-08-08T06:48:57.391900Z",
     "iopub.status.busy": "2023-08-08T06:48:57.389954Z",
     "iopub.status.idle": "2023-08-08T06:49:00.800411Z",
     "shell.execute_reply": "2023-08-08T06:49:00.798410Z"
    },
    "papermill": {
     "duration": 3.429018,
     "end_time": "2023-08-08T06:49:00.803707",
     "exception": false,
     "start_time": "2023-08-08T06:48:57.374689",
     "status": "completed"
    },
    "tags": []
   },
   "outputs": [
    {
     "name": "stdout",
     "output_type": "stream",
     "text": [
      "              precision    recall  f1-score   support\n",
      "\n",
      "           0       1.00      1.00      1.00   1906318\n",
      "           1       0.73      0.67      0.70      2468\n",
      "\n",
      "    accuracy                           1.00   1908786\n",
      "   macro avg       0.87      0.83      0.85   1908786\n",
      "weighted avg       1.00      1.00      1.00   1908786\n",
      "\n"
     ]
    }
   ],
   "source": [
    "#Calculate common error metrics for a 2-class classifier\n",
    "\n",
    "from sklearn.metrics import classification_report\n",
    "print(classification_report(y_test,y_predict))"
   ]
  },
  {
   "cell_type": "code",
   "execution_count": 24,
   "id": "6a583682",
   "metadata": {
    "execution": {
     "iopub.execute_input": "2023-08-08T06:49:00.836431Z",
     "iopub.status.busy": "2023-08-08T06:49:00.835975Z",
     "iopub.status.idle": "2023-08-08T06:49:00.842241Z",
     "shell.execute_reply": "2023-08-08T06:49:00.840959Z"
    },
    "papermill": {
     "duration": 0.02636,
     "end_time": "2023-08-08T06:49:00.844934",
     "exception": false,
     "start_time": "2023-08-08T06:49:00.818574",
     "status": "completed"
    },
    "tags": []
   },
   "outputs": [],
   "source": [
    "# Calculate metrics values individually\n",
    "\n",
    "# Assigning Variables for convinience\n",
    "\n",
    "TN = cm[0][0]\n",
    "FP = cm[0][1]\n",
    "FN = cm[1][0]\n",
    "TP = cm[1][1]"
   ]
  },
  {
   "cell_type": "code",
   "execution_count": 25,
   "id": "4e871d85",
   "metadata": {
    "execution": {
     "iopub.execute_input": "2023-08-08T06:49:00.877228Z",
     "iopub.status.busy": "2023-08-08T06:49:00.876482Z",
     "iopub.status.idle": "2023-08-08T06:49:00.882442Z",
     "shell.execute_reply": "2023-08-08T06:49:00.881395Z"
    },
    "papermill": {
     "duration": 0.025579,
     "end_time": "2023-08-08T06:49:00.885484",
     "exception": false,
     "start_time": "2023-08-08T06:49:00.859905",
     "status": "completed"
    },
    "tags": []
   },
   "outputs": [
    {
     "name": "stdout",
     "output_type": "stream",
     "text": [
      "Recall=  0.6657212317666127\n"
     ]
    }
   ],
   "source": [
    "recall = TP / (TP + FN )\n",
    "print(\"Recall= \",recall)"
   ]
  },
  {
   "cell_type": "code",
   "execution_count": 26,
   "id": "1bf702a4",
   "metadata": {
    "execution": {
     "iopub.execute_input": "2023-08-08T06:49:00.919399Z",
     "iopub.status.busy": "2023-08-08T06:49:00.917935Z",
     "iopub.status.idle": "2023-08-08T06:49:00.926800Z",
     "shell.execute_reply": "2023-08-08T06:49:00.924975Z"
    },
    "papermill": {
     "duration": 0.029713,
     "end_time": "2023-08-08T06:49:00.930606",
     "exception": false,
     "start_time": "2023-08-08T06:49:00.900893",
     "status": "completed"
    },
    "tags": []
   },
   "outputs": [
    {
     "name": "stdout",
     "output_type": "stream",
     "text": [
      "Precision= 0.7318485523385301\n"
     ]
    }
   ],
   "source": [
    "precision = TP / (TP + FP)\n",
    "print(\"Precision=\",precision)"
   ]
  },
  {
   "cell_type": "code",
   "execution_count": 27,
   "id": "1d575cee",
   "metadata": {
    "execution": {
     "iopub.execute_input": "2023-08-08T06:49:00.963238Z",
     "iopub.status.busy": "2023-08-08T06:49:00.962793Z",
     "iopub.status.idle": "2023-08-08T06:49:00.970261Z",
     "shell.execute_reply": "2023-08-08T06:49:00.968281Z"
    },
    "papermill": {
     "duration": 0.026858,
     "end_time": "2023-08-08T06:49:00.972923",
     "exception": false,
     "start_time": "2023-08-08T06:49:00.946065",
     "status": "completed"
    },
    "tags": []
   },
   "outputs": [
    {
     "name": "stdout",
     "output_type": "stream",
     "text": [
      "Specificity =  0.9996842079862857\n"
     ]
    }
   ],
   "source": [
    "specificity = TN /  (TN + FP)\n",
    "print(\"Specificity = \", specificity)"
   ]
  },
  {
   "cell_type": "code",
   "execution_count": 28,
   "id": "4f3b2e76",
   "metadata": {
    "execution": {
     "iopub.execute_input": "2023-08-08T06:49:01.005439Z",
     "iopub.status.busy": "2023-08-08T06:49:01.004627Z",
     "iopub.status.idle": "2023-08-08T06:49:01.012437Z",
     "shell.execute_reply": "2023-08-08T06:49:01.010418Z"
    },
    "papermill": {
     "duration": 0.027958,
     "end_time": "2023-08-08T06:49:01.015701",
     "exception": false,
     "start_time": "2023-08-08T06:49:00.987743",
     "status": "completed"
    },
    "tags": []
   },
   "outputs": [
    {
     "name": "stdout",
     "output_type": "stream",
     "text": [
      "Accuracy = 0.9992524044078278\n"
     ]
    }
   ],
   "source": [
    "accuracy = ( TP + TN ) / ( TP + TN + FP + FN)\n",
    "print(\"Accuracy =\" , accuracy)"
   ]
  },
  {
   "cell_type": "code",
   "execution_count": null,
   "id": "fce2ac4f",
   "metadata": {
    "papermill": {
     "duration": 0.015029,
     "end_time": "2023-08-08T06:49:01.048412",
     "exception": false,
     "start_time": "2023-08-08T06:49:01.033383",
     "status": "completed"
    },
    "tags": []
   },
   "outputs": [],
   "source": []
  }
 ],
 "metadata": {
  "kernelspec": {
   "display_name": "Python 3",
   "language": "python",
   "name": "python3"
  },
  "language_info": {
   "codemirror_mode": {
    "name": "ipython",
    "version": 3
   },
   "file_extension": ".py",
   "mimetype": "text/x-python",
   "name": "python",
   "nbconvert_exporter": "python",
   "pygments_lexer": "ipython3",
   "version": "3.10.12"
  },
  "papermill": {
   "default_parameters": {},
   "duration": 140.19661,
   "end_time": "2023-08-08T06:49:02.792376",
   "environment_variables": {},
   "exception": null,
   "input_path": "__notebook__.ipynb",
   "output_path": "__notebook__.ipynb",
   "parameters": {},
   "start_time": "2023-08-08T06:46:42.595766",
   "version": "2.4.0"
  }
 },
 "nbformat": 4,
 "nbformat_minor": 5
}
